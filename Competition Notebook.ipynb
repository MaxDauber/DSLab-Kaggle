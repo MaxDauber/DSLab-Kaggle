{
 "cells": [
  {
   "cell_type": "code",
   "execution_count": 1,
   "metadata": {},
   "outputs": [
    {
     "name": "stdout",
     "output_type": "stream",
     "text": [
      "\u001b[34m\u001b[1mwandb\u001b[0m: Appending key for api.wandb.ai to your netrc file: /Users/maxdauber/.netrc\r\n"
     ]
    },
    {
     "name": "stderr",
     "output_type": "stream",
     "text": [
      "\u001b[34m\u001b[1mwandb\u001b[0m: Currently logged in as: \u001b[33mmaxdauber\u001b[0m (use `wandb login --relogin` to force relogin)\n"
     ]
    },
    {
     "data": {
      "text/html": [
       "\n",
       "                Tracking run with wandb version 0.10.8<br/>\n",
       "                Syncing run <strong style=\"color:#cdcd00\">winter-spaceship-3</strong> to <a href=\"https://wandb.ai\" target=\"_blank\">Weights & Biases</a> <a href=\"https://docs.wandb.com/integrations/jupyter.html\" target=\"_blank\">(Documentation)</a>.<br/>\n",
       "                Project page: <a href=\"https://wandb.ai/maxdauber/dslab-kaggle\" target=\"_blank\">https://wandb.ai/maxdauber/dslab-kaggle</a><br/>\n",
       "                Run page: <a href=\"https://wandb.ai/maxdauber/dslab-kaggle/runs/21ug1i2r\" target=\"_blank\">https://wandb.ai/maxdauber/dslab-kaggle/runs/21ug1i2r</a><br/>\n",
       "                Run data is saved locally in <code>wandb/run-20201025_185816-21ug1i2r</code><br/><br/>\n",
       "            "
      ],
      "text/plain": [
       "<IPython.core.display.HTML object>"
      ]
     },
     "metadata": {},
     "output_type": "display_data"
    }
   ],
   "source": [
    "import json\n",
    "import pandas as pd\n",
    "import numpy as np\n",
    "import seaborn as sns\n",
    "import xgboost as xgb\n",
    "import matplotlib.pyplot as plt\n",
    "from scipy.stats import skew\n",
    "from sklearn.svm import SVC\n",
    "from sklearn.ensemble import RandomForestClassifier, AdaBoostClassifier, GradientBoostingClassifier, ExtraTreesClassifier\n",
    "from sklearn.linear_model import Ridge, RidgeCV, ElasticNet, LassoCV, LassoLarsCV, LogisticRegression, LogisticRegressionCV\n",
    "from sklearn.model_selection import StratifiedShuffleSplit, StratifiedKFold, validation_curve, cross_val_score, train_test_split, KFold\n",
    "from sklearn.metrics import accuracy_score, log_loss, roc_auc_score, average_precision_score\n",
    "from sklearn.preprocessing import StandardScaler\n",
    "from datetime import datetime\n",
    "import warnings\n",
    "warnings.filterwarnings('ignore')\n",
    "\n",
    "!wandb login bba1e1fa6dcd5919bf34e3094e5632c056b0c4d6\n",
    "import wandb\n",
    "from wandb.xgboost import wandb_callback\n",
    "wandb.init(project=\"dslab-kaggle\")\n",
    "\n",
    "%matplotlib inline"
   ]
  },
  {
   "cell_type": "markdown",
   "metadata": {},
   "source": [
    "#### Load in Housing Data"
   ]
  },
  {
   "cell_type": "code",
   "execution_count": 2,
   "metadata": {
    "scrolled": true
   },
   "outputs": [
    {
     "data": {
      "text/html": [
       "<div>\n",
       "<style scoped>\n",
       "    .dataframe tbody tr th:only-of-type {\n",
       "        vertical-align: middle;\n",
       "    }\n",
       "\n",
       "    .dataframe tbody tr th {\n",
       "        vertical-align: top;\n",
       "    }\n",
       "\n",
       "    .dataframe thead th {\n",
       "        text-align: right;\n",
       "    }\n",
       "</style>\n",
       "<table border=\"1\" class=\"dataframe\">\n",
       "  <thead>\n",
       "    <tr style=\"text-align: right;\">\n",
       "      <th></th>\n",
       "      <th>f1</th>\n",
       "      <th>f2</th>\n",
       "      <th>f3</th>\n",
       "      <th>f4</th>\n",
       "      <th>f5</th>\n",
       "      <th>f6</th>\n",
       "      <th>f7</th>\n",
       "      <th>f8</th>\n",
       "      <th>f9</th>\n",
       "      <th>f10</th>\n",
       "      <th>...</th>\n",
       "      <th>f14</th>\n",
       "      <th>f15</th>\n",
       "      <th>f16</th>\n",
       "      <th>f17</th>\n",
       "      <th>f18</th>\n",
       "      <th>f19</th>\n",
       "      <th>f20</th>\n",
       "      <th>f21</th>\n",
       "      <th>f22</th>\n",
       "      <th>f23</th>\n",
       "    </tr>\n",
       "  </thead>\n",
       "  <tbody>\n",
       "    <tr>\n",
       "      <th>0</th>\n",
       "      <td>25884</td>\n",
       "      <td>1</td>\n",
       "      <td>33.63</td>\n",
       "      <td>118596</td>\n",
       "      <td>1</td>\n",
       "      <td>0</td>\n",
       "      <td>118595</td>\n",
       "      <td>125738</td>\n",
       "      <td>1</td>\n",
       "      <td>3</td>\n",
       "      <td>...</td>\n",
       "      <td>-2.266430</td>\n",
       "      <td>1945</td>\n",
       "      <td>118450</td>\n",
       "      <td>119184</td>\n",
       "      <td>1</td>\n",
       "      <td>121372</td>\n",
       "      <td>1</td>\n",
       "      <td>1</td>\n",
       "      <td>1</td>\n",
       "      <td>2</td>\n",
       "    </tr>\n",
       "    <tr>\n",
       "      <th>1</th>\n",
       "      <td>34346</td>\n",
       "      <td>1</td>\n",
       "      <td>10.62</td>\n",
       "      <td>118041</td>\n",
       "      <td>1</td>\n",
       "      <td>0</td>\n",
       "      <td>117902</td>\n",
       "      <td>130913</td>\n",
       "      <td>1</td>\n",
       "      <td>1</td>\n",
       "      <td>...</td>\n",
       "      <td>-0.305612</td>\n",
       "      <td>15385</td>\n",
       "      <td>117945</td>\n",
       "      <td>292795</td>\n",
       "      <td>1</td>\n",
       "      <td>259173</td>\n",
       "      <td>1</td>\n",
       "      <td>1</td>\n",
       "      <td>1</td>\n",
       "      <td>1</td>\n",
       "    </tr>\n",
       "    <tr>\n",
       "      <th>2</th>\n",
       "      <td>34923</td>\n",
       "      <td>1</td>\n",
       "      <td>1.77</td>\n",
       "      <td>118327</td>\n",
       "      <td>1</td>\n",
       "      <td>0</td>\n",
       "      <td>117961</td>\n",
       "      <td>124402</td>\n",
       "      <td>1</td>\n",
       "      <td>2</td>\n",
       "      <td>...</td>\n",
       "      <td>2.015561</td>\n",
       "      <td>7547</td>\n",
       "      <td>118933</td>\n",
       "      <td>290919</td>\n",
       "      <td>1</td>\n",
       "      <td>118784</td>\n",
       "      <td>1</td>\n",
       "      <td>1</td>\n",
       "      <td>1</td>\n",
       "      <td>1</td>\n",
       "    </tr>\n",
       "    <tr>\n",
       "      <th>3</th>\n",
       "      <td>80926</td>\n",
       "      <td>1</td>\n",
       "      <td>30.09</td>\n",
       "      <td>118300</td>\n",
       "      <td>1</td>\n",
       "      <td>0</td>\n",
       "      <td>117961</td>\n",
       "      <td>301218</td>\n",
       "      <td>1</td>\n",
       "      <td>0</td>\n",
       "      <td>...</td>\n",
       "      <td>-3.172501</td>\n",
       "      <td>4933</td>\n",
       "      <td>118458</td>\n",
       "      <td>118331</td>\n",
       "      <td>1</td>\n",
       "      <td>307024</td>\n",
       "      <td>1</td>\n",
       "      <td>1</td>\n",
       "      <td>1</td>\n",
       "      <td>2</td>\n",
       "    </tr>\n",
       "    <tr>\n",
       "      <th>4</th>\n",
       "      <td>4674</td>\n",
       "      <td>1</td>\n",
       "      <td>1.77</td>\n",
       "      <td>119921</td>\n",
       "      <td>1</td>\n",
       "      <td>0</td>\n",
       "      <td>119920</td>\n",
       "      <td>302830</td>\n",
       "      <td>1</td>\n",
       "      <td>0</td>\n",
       "      <td>...</td>\n",
       "      <td>0.573767</td>\n",
       "      <td>13836</td>\n",
       "      <td>142145</td>\n",
       "      <td>4673</td>\n",
       "      <td>1</td>\n",
       "      <td>128230</td>\n",
       "      <td>1</td>\n",
       "      <td>1</td>\n",
       "      <td>1</td>\n",
       "      <td>620</td>\n",
       "    </tr>\n",
       "  </tbody>\n",
       "</table>\n",
       "<p>5 rows × 23 columns</p>\n",
       "</div>"
      ],
      "text/plain": [
       "      f1  f2     f3      f4  f5  f6      f7      f8  f9  f10  ...       f14  \\\n",
       "0  25884   1  33.63  118596   1   0  118595  125738   1    3  ... -2.266430   \n",
       "1  34346   1  10.62  118041   1   0  117902  130913   1    1  ... -0.305612   \n",
       "2  34923   1   1.77  118327   1   0  117961  124402   1    2  ...  2.015561   \n",
       "3  80926   1  30.09  118300   1   0  117961  301218   1    0  ... -3.172501   \n",
       "4   4674   1   1.77  119921   1   0  119920  302830   1    0  ...  0.573767   \n",
       "\n",
       "     f15     f16     f17  f18     f19  f20  f21  f22  f23  \n",
       "0   1945  118450  119184    1  121372    1    1    1    2  \n",
       "1  15385  117945  292795    1  259173    1    1    1    1  \n",
       "2   7547  118933  290919    1  118784    1    1    1    1  \n",
       "3   4933  118458  118331    1  307024    1    1    1    2  \n",
       "4  13836  142145    4673    1  128230    1    1    1  620  \n",
       "\n",
       "[5 rows x 23 columns]"
      ]
     },
     "execution_count": 2,
     "metadata": {},
     "output_type": "execute_result"
    }
   ],
   "source": [
    "train = pd.read_csv('data-science-comp-f2020/train_final.csv').iloc[:,1:-1]\n",
    "test = pd.read_csv('data-science-comp-f2020/test_final.csv').iloc[:,1:-1]\n",
    "y = pd.DataFrame(train.Y)\n",
    "train = train.drop(columns=\"Y\")\n",
    "train.head()"
   ]
  },
  {
   "cell_type": "code",
   "execution_count": 3,
   "metadata": {},
   "outputs": [],
   "source": [
    "#Samples from both train and test\n",
    "all_data = pd.concat((train.iloc[:,1:-1],\n",
    "                      test.iloc[:,1:-1]))"
   ]
  },
  {
   "cell_type": "markdown",
   "metadata": {},
   "source": [
    "#### Useful functions for below"
   ]
  },
  {
   "cell_type": "code",
   "execution_count": 5,
   "metadata": {},
   "outputs": [],
   "source": [
    "global model_counter\n",
    "model_counter = 0\n",
    "def export_test(preds, model, params):\n",
    "    global model_counter\n",
    "    model_counter += 1\n",
    "    model_name = datetime.today().strftime('%Y_%m_%d') + \"xgboost_\" + str(model_counter)\n",
    "    model.save_model(f'models/{model_name}.model')\n",
    "    \n",
    "    model_params = f\"models/{model_name}_params.json\"\n",
    "    with open(model_params, 'w') as fp:\n",
    "        json.dump(params, fp)\n",
    "        \n",
    "    ids = pd.read_csv('data-science-comp-f2020/test_final.csv').iloc[:,0]\n",
    "    np.shape(ids)\n",
    "    temp = pd.concat([ids, preds], axis=1)\n",
    "    temp.to_csv(f'results/{model_name}.csv',index=False,header=True)\n",
    "    print(\"Saved model:\", model_name)"
   ]
  },
  {
   "cell_type": "markdown",
   "metadata": {},
   "source": [
    "#### Brief Data Exploration"
   ]
  },
  {
   "cell_type": "code",
   "execution_count": 6,
   "metadata": {},
   "outputs": [
    {
     "data": {
      "text/html": [
       "<div>\n",
       "<style scoped>\n",
       "    .dataframe tbody tr th:only-of-type {\n",
       "        vertical-align: middle;\n",
       "    }\n",
       "\n",
       "    .dataframe tbody tr th {\n",
       "        vertical-align: top;\n",
       "    }\n",
       "\n",
       "    .dataframe thead th {\n",
       "        text-align: right;\n",
       "    }\n",
       "</style>\n",
       "<table border=\"1\" class=\"dataframe\">\n",
       "  <thead>\n",
       "    <tr style=\"text-align: right;\">\n",
       "      <th></th>\n",
       "      <th>f1</th>\n",
       "      <th>f2</th>\n",
       "      <th>f3</th>\n",
       "      <th>f4</th>\n",
       "      <th>f5</th>\n",
       "      <th>f6</th>\n",
       "      <th>f7</th>\n",
       "      <th>f8</th>\n",
       "      <th>f9</th>\n",
       "      <th>f10</th>\n",
       "      <th>...</th>\n",
       "      <th>f14</th>\n",
       "      <th>f15</th>\n",
       "      <th>f16</th>\n",
       "      <th>f17</th>\n",
       "      <th>f18</th>\n",
       "      <th>f19</th>\n",
       "      <th>f20</th>\n",
       "      <th>f21</th>\n",
       "      <th>f22</th>\n",
       "      <th>f23</th>\n",
       "    </tr>\n",
       "  </thead>\n",
       "  <tbody>\n",
       "    <tr>\n",
       "      <th>count</th>\n",
       "      <td>16383.000000</td>\n",
       "      <td>16383.000000</td>\n",
       "      <td>16383.000000</td>\n",
       "      <td>16383.000000</td>\n",
       "      <td>16383.000000</td>\n",
       "      <td>16383.000000</td>\n",
       "      <td>16383.000000</td>\n",
       "      <td>16383.000000</td>\n",
       "      <td>16383.000000</td>\n",
       "      <td>16383.000000</td>\n",
       "      <td>...</td>\n",
       "      <td>16383.000000</td>\n",
       "      <td>16383.000000</td>\n",
       "      <td>16383.000000</td>\n",
       "      <td>16383.000000</td>\n",
       "      <td>16383.000000</td>\n",
       "      <td>16383.000000</td>\n",
       "      <td>16383.000000</td>\n",
       "      <td>16383.000000</td>\n",
       "      <td>16383.000000</td>\n",
       "      <td>1.638300e+04</td>\n",
       "    </tr>\n",
       "    <tr>\n",
       "      <th>mean</th>\n",
       "      <td>43007.775865</td>\n",
       "      <td>1.044375</td>\n",
       "      <td>11.770938</td>\n",
       "      <td>118323.581456</td>\n",
       "      <td>1.044436</td>\n",
       "      <td>0.050052</td>\n",
       "      <td>117089.674113</td>\n",
       "      <td>169730.178600</td>\n",
       "      <td>1.041812</td>\n",
       "      <td>4.976317</td>\n",
       "      <td>...</td>\n",
       "      <td>0.293940</td>\n",
       "      <td>25894.316914</td>\n",
       "      <td>119045.099005</td>\n",
       "      <td>184622.040835</td>\n",
       "      <td>1.047305</td>\n",
       "      <td>125959.667765</td>\n",
       "      <td>1.044558</td>\n",
       "      <td>1.045718</td>\n",
       "      <td>1.041934</td>\n",
       "      <td>3.271890e+04</td>\n",
       "    </tr>\n",
       "    <tr>\n",
       "      <th>std</th>\n",
       "      <td>33611.182771</td>\n",
       "      <td>0.264806</td>\n",
       "      <td>353.187115</td>\n",
       "      <td>4518.059755</td>\n",
       "      <td>0.265601</td>\n",
       "      <td>0.293892</td>\n",
       "      <td>10261.292970</td>\n",
       "      <td>69396.677853</td>\n",
       "      <td>0.258226</td>\n",
       "      <td>65.629620</td>\n",
       "      <td>...</td>\n",
       "      <td>1.728999</td>\n",
       "      <td>36086.993946</td>\n",
       "      <td>18321.987129</td>\n",
       "      <td>100590.811845</td>\n",
       "      <td>0.306239</td>\n",
       "      <td>31091.344158</td>\n",
       "      <td>0.262576</td>\n",
       "      <td>0.266874</td>\n",
       "      <td>0.246597</td>\n",
       "      <td>3.184929e+06</td>\n",
       "    </tr>\n",
       "    <tr>\n",
       "      <th>min</th>\n",
       "      <td>-1.000000</td>\n",
       "      <td>1.000000</td>\n",
       "      <td>1.770000</td>\n",
       "      <td>23779.000000</td>\n",
       "      <td>1.000000</td>\n",
       "      <td>0.000000</td>\n",
       "      <td>4292.000000</td>\n",
       "      <td>4673.000000</td>\n",
       "      <td>1.000000</td>\n",
       "      <td>0.000000</td>\n",
       "      <td>...</td>\n",
       "      <td>-7.446045</td>\n",
       "      <td>25.000000</td>\n",
       "      <td>4674.000000</td>\n",
       "      <td>3130.000000</td>\n",
       "      <td>1.000000</td>\n",
       "      <td>117879.000000</td>\n",
       "      <td>1.000000</td>\n",
       "      <td>1.000000</td>\n",
       "      <td>1.000000</td>\n",
       "      <td>1.000000e+00</td>\n",
       "    </tr>\n",
       "    <tr>\n",
       "      <th>25%</th>\n",
       "      <td>20311.000000</td>\n",
       "      <td>1.000000</td>\n",
       "      <td>1.770000</td>\n",
       "      <td>118096.000000</td>\n",
       "      <td>1.000000</td>\n",
       "      <td>0.000000</td>\n",
       "      <td>117961.000000</td>\n",
       "      <td>117906.000000</td>\n",
       "      <td>1.000000</td>\n",
       "      <td>0.000000</td>\n",
       "      <td>...</td>\n",
       "      <td>-0.704562</td>\n",
       "      <td>4554.000000</td>\n",
       "      <td>118395.000000</td>\n",
       "      <td>118398.000000</td>\n",
       "      <td>1.000000</td>\n",
       "      <td>118274.000000</td>\n",
       "      <td>1.000000</td>\n",
       "      <td>1.000000</td>\n",
       "      <td>1.000000</td>\n",
       "      <td>1.000000e+00</td>\n",
       "    </tr>\n",
       "    <tr>\n",
       "      <th>50%</th>\n",
       "      <td>35527.000000</td>\n",
       "      <td>1.000000</td>\n",
       "      <td>1.770000</td>\n",
       "      <td>118300.000000</td>\n",
       "      <td>1.000000</td>\n",
       "      <td>0.000000</td>\n",
       "      <td>117961.000000</td>\n",
       "      <td>128130.000000</td>\n",
       "      <td>1.000000</td>\n",
       "      <td>0.000000</td>\n",
       "      <td>...</td>\n",
       "      <td>1.000000</td>\n",
       "      <td>13234.000000</td>\n",
       "      <td>118929.000000</td>\n",
       "      <td>119095.000000</td>\n",
       "      <td>1.000000</td>\n",
       "      <td>118568.000000</td>\n",
       "      <td>1.000000</td>\n",
       "      <td>1.000000</td>\n",
       "      <td>1.000000</td>\n",
       "      <td>2.000000e+00</td>\n",
       "    </tr>\n",
       "    <tr>\n",
       "      <th>75%</th>\n",
       "      <td>74240.500000</td>\n",
       "      <td>1.000000</td>\n",
       "      <td>3.540000</td>\n",
       "      <td>118386.000000</td>\n",
       "      <td>1.000000</td>\n",
       "      <td>0.000000</td>\n",
       "      <td>117961.000000</td>\n",
       "      <td>234498.500000</td>\n",
       "      <td>1.000000</td>\n",
       "      <td>1.000000</td>\n",
       "      <td>...</td>\n",
       "      <td>1.000000</td>\n",
       "      <td>38902.000000</td>\n",
       "      <td>120539.000000</td>\n",
       "      <td>290919.000000</td>\n",
       "      <td>1.000000</td>\n",
       "      <td>120006.000000</td>\n",
       "      <td>1.000000</td>\n",
       "      <td>1.000000</td>\n",
       "      <td>1.000000</td>\n",
       "      <td>9.000000e+00</td>\n",
       "    </tr>\n",
       "    <tr>\n",
       "      <th>max</th>\n",
       "      <td>312152.000000</td>\n",
       "      <td>7.000000</td>\n",
       "      <td>43910.160000</td>\n",
       "      <td>286791.000000</td>\n",
       "      <td>9.000000</td>\n",
       "      <td>10.000000</td>\n",
       "      <td>311178.000000</td>\n",
       "      <td>311867.000000</td>\n",
       "      <td>11.000000</td>\n",
       "      <td>5036.000000</td>\n",
       "      <td>...</td>\n",
       "      <td>7.398682</td>\n",
       "      <td>311696.000000</td>\n",
       "      <td>286792.000000</td>\n",
       "      <td>308574.000000</td>\n",
       "      <td>18.000000</td>\n",
       "      <td>311867.000000</td>\n",
       "      <td>8.000000</td>\n",
       "      <td>8.000000</td>\n",
       "      <td>7.000000</td>\n",
       "      <td>4.042886e+08</td>\n",
       "    </tr>\n",
       "  </tbody>\n",
       "</table>\n",
       "<p>8 rows × 23 columns</p>\n",
       "</div>"
      ],
      "text/plain": [
       "                  f1            f2            f3             f4            f5  \\\n",
       "count   16383.000000  16383.000000  16383.000000   16383.000000  16383.000000   \n",
       "mean    43007.775865      1.044375     11.770938  118323.581456      1.044436   \n",
       "std     33611.182771      0.264806    353.187115    4518.059755      0.265601   \n",
       "min        -1.000000      1.000000      1.770000   23779.000000      1.000000   \n",
       "25%     20311.000000      1.000000      1.770000  118096.000000      1.000000   \n",
       "50%     35527.000000      1.000000      1.770000  118300.000000      1.000000   \n",
       "75%     74240.500000      1.000000      3.540000  118386.000000      1.000000   \n",
       "max    312152.000000      7.000000  43910.160000  286791.000000      9.000000   \n",
       "\n",
       "                 f6             f7             f8            f9           f10  \\\n",
       "count  16383.000000   16383.000000   16383.000000  16383.000000  16383.000000   \n",
       "mean       0.050052  117089.674113  169730.178600      1.041812      4.976317   \n",
       "std        0.293892   10261.292970   69396.677853      0.258226     65.629620   \n",
       "min        0.000000    4292.000000    4673.000000      1.000000      0.000000   \n",
       "25%        0.000000  117961.000000  117906.000000      1.000000      0.000000   \n",
       "50%        0.000000  117961.000000  128130.000000      1.000000      0.000000   \n",
       "75%        0.000000  117961.000000  234498.500000      1.000000      1.000000   \n",
       "max       10.000000  311178.000000  311867.000000     11.000000   5036.000000   \n",
       "\n",
       "       ...           f14            f15            f16            f17  \\\n",
       "count  ...  16383.000000   16383.000000   16383.000000   16383.000000   \n",
       "mean   ...      0.293940   25894.316914  119045.099005  184622.040835   \n",
       "std    ...      1.728999   36086.993946   18321.987129  100590.811845   \n",
       "min    ...     -7.446045      25.000000    4674.000000    3130.000000   \n",
       "25%    ...     -0.704562    4554.000000  118395.000000  118398.000000   \n",
       "50%    ...      1.000000   13234.000000  118929.000000  119095.000000   \n",
       "75%    ...      1.000000   38902.000000  120539.000000  290919.000000   \n",
       "max    ...      7.398682  311696.000000  286792.000000  308574.000000   \n",
       "\n",
       "                f18            f19           f20           f21           f22  \\\n",
       "count  16383.000000   16383.000000  16383.000000  16383.000000  16383.000000   \n",
       "mean       1.047305  125959.667765      1.044558      1.045718      1.041934   \n",
       "std        0.306239   31091.344158      0.262576      0.266874      0.246597   \n",
       "min        1.000000  117879.000000      1.000000      1.000000      1.000000   \n",
       "25%        1.000000  118274.000000      1.000000      1.000000      1.000000   \n",
       "50%        1.000000  118568.000000      1.000000      1.000000      1.000000   \n",
       "75%        1.000000  120006.000000      1.000000      1.000000      1.000000   \n",
       "max       18.000000  311867.000000      8.000000      8.000000      7.000000   \n",
       "\n",
       "                f23  \n",
       "count  1.638300e+04  \n",
       "mean   3.271890e+04  \n",
       "std    3.184929e+06  \n",
       "min    1.000000e+00  \n",
       "25%    1.000000e+00  \n",
       "50%    2.000000e+00  \n",
       "75%    9.000000e+00  \n",
       "max    4.042886e+08  \n",
       "\n",
       "[8 rows x 23 columns]"
      ]
     },
     "execution_count": 6,
     "metadata": {},
     "output_type": "execute_result"
    }
   ],
   "source": [
    "train.describe()"
   ]
  },
  {
   "cell_type": "code",
   "execution_count": 7,
   "metadata": {},
   "outputs": [
    {
     "data": {
      "image/png": "[encoded data removed]",
      "text/plain": [
       "<Figure size 1008x864 with 2 Axes>"
      ]
     },
     "metadata": {
      "needs_background": "light"
     },
     "output_type": "display_data"
    }
   ],
   "source": [
    "colormap = plt.cm.RdBu\n",
    "plt.figure(figsize=(14,12))\n",
    "plt.title('Correlation of Features', y=1.05, size=15)\n",
    "sns.heatmap(train.astype(float).corr(),linewidths=0.1,vmax=1.0, \n",
    "            square=True, cmap=colormap, linecolor='white', annot=True)\n",
    "plt.show()"
   ]
  },
  {
   "cell_type": "markdown",
   "metadata": {},
   "source": [
    "We can see the distribution of binary values in the train set"
   ]
  },
  {
   "cell_type": "code",
   "execution_count": 8,
   "metadata": {},
   "outputs": [
    {
     "name": "stdout",
     "output_type": "stream",
     "text": [
      "1    15435\n",
      "0      948\n",
      "Name: Y, dtype: int64\n"
     ]
    }
   ],
   "source": [
    "counts = y['Y'].value_counts()\n",
    "print(counts)"
   ]
  },
  {
   "cell_type": "markdown",
   "metadata": {},
   "source": [
    "# Training Models"
   ]
  },
  {
   "cell_type": "markdown",
   "metadata": {},
   "source": [
    "### Trying XGBoost\n",
    "First attempt is just vanilla, no tuning"
   ]
  },
  {
   "cell_type": "code",
   "execution_count": 9,
   "metadata": {},
   "outputs": [],
   "source": [
    "X_train, X_test, y_train, y_test = train_test_split(train,y,test_size=.2, random_state=42)\n",
    "if \"Y\" in X_train.columns:\n",
    "    del data[\"Y\"]\n",
    "dtrain = xgb.DMatrix(X_train, label=y_train)\n",
    "dtest = xgb.DMatrix(X_test, label=y_test)\n",
    "dtest_submit = xgb.DMatrix(test)\n",
    "params = {\n",
    "    'eta': 0.1, \n",
    "    'max_depth': 20,  \n",
    "    'objective': 'multi:softprob',  \n",
    "    'num_class': 2, \n",
    "    'verbosity':1} \n",
    "\n",
    "steps = 20\n",
    "num_round = 10"
   ]
  },
  {
   "cell_type": "code",
   "execution_count": 10,
   "metadata": {},
   "outputs": [],
   "source": [
    "model = xgb.train(params, dtrain, steps)"
   ]
  },
  {
   "cell_type": "code",
   "execution_count": 11,
   "metadata": {},
   "outputs": [
    {
     "data": {
      "text/html": [
       "<div>\n",
       "<style scoped>\n",
       "    .dataframe tbody tr th:only-of-type {\n",
       "        vertical-align: middle;\n",
       "    }\n",
       "\n",
       "    .dataframe tbody tr th {\n",
       "        vertical-align: top;\n",
       "    }\n",
       "\n",
       "    .dataframe thead th {\n",
       "        text-align: right;\n",
       "    }\n",
       "</style>\n",
       "<table border=\"1\" class=\"dataframe\">\n",
       "  <thead>\n",
       "    <tr style=\"text-align: right;\">\n",
       "      <th></th>\n",
       "      <th>Y</th>\n",
       "    </tr>\n",
       "  </thead>\n",
       "  <tbody>\n",
       "    <tr>\n",
       "      <th>0</th>\n",
       "      <td>0.929146</td>\n",
       "    </tr>\n",
       "    <tr>\n",
       "      <th>1</th>\n",
       "      <td>0.688694</td>\n",
       "    </tr>\n",
       "    <tr>\n",
       "      <th>2</th>\n",
       "      <td>0.528397</td>\n",
       "    </tr>\n",
       "    <tr>\n",
       "      <th>3</th>\n",
       "      <td>0.934351</td>\n",
       "    </tr>\n",
       "    <tr>\n",
       "      <th>4</th>\n",
       "      <td>0.916486</td>\n",
       "    </tr>\n",
       "  </tbody>\n",
       "</table>\n",
       "</div>"
      ],
      "text/plain": [
       "          Y\n",
       "0  0.929146\n",
       "1  0.688694\n",
       "2  0.528397\n",
       "3  0.934351\n",
       "4  0.916486"
      ]
     },
     "execution_count": 11,
     "metadata": {},
     "output_type": "execute_result"
    }
   ],
   "source": [
    "soft_preds = pd.DataFrame(model.predict(dtest))\n",
    "soft_preds_result = pd.DataFrame(model.predict(dtest)).iloc[:, 1:]\n",
    "soft_preds_result.columns = [\"Y\"]\n",
    "soft_preds_result.head()"
   ]
  },
  {
   "cell_type": "code",
   "execution_count": 12,
   "metadata": {},
   "outputs": [
    {
     "data": {
      "text/plain": [
       "0"
      ]
     },
     "execution_count": 12,
     "metadata": {},
     "output_type": "execute_result"
    }
   ],
   "source": [
    "model_counter"
   ]
  },
  {
   "cell_type": "code",
   "execution_count": 13,
   "metadata": {
    "scrolled": true
   },
   "outputs": [
    {
     "name": "stdout",
     "output_type": "stream",
     "text": [
      "Saved model: 2020_10_25xgboost_1\n"
     ]
    }
   ],
   "source": [
    "export_test(soft_preds, model, params)"
   ]
  },
  {
   "cell_type": "markdown",
   "metadata": {},
   "source": [
    "Trying submission with hard predictions"
   ]
  },
  {
   "cell_type": "code",
   "execution_count": null,
   "metadata": {},
   "outputs": [],
   "source": [
    "hard_preds = pd.DataFrame([np.argmax(line) for line in soft_preds])\n",
    "hard_preds.columns = [\"Y\"]\n",
    "np.shape(hard_preds)"
   ]
  },
  {
   "cell_type": "code",
   "execution_count": null,
   "metadata": {},
   "outputs": [],
   "source": [
    "export_test(soft_preds_result, model, params)"
   ]
  },
  {
   "cell_type": "markdown",
   "metadata": {},
   "source": [
    "### Trying out Cross Validation\n",
    "Instantiate training datasets and base params"
   ]
  },
  {
   "cell_type": "code",
   "execution_count": 14,
   "metadata": {},
   "outputs": [],
   "source": [
    "X_train, X_test, y_train, y_test = train_test_split(train,y,test_size=.2, random_state=42)\n",
    "if \"Y\" in X_train.columns:\n",
    "    del data[\"Y\"]\n",
    "dtrain = xgb.DMatrix(X_train, label=y_train)\n",
    "dtest = xgb.DMatrix(X_test, label=y_test)\n",
    "dtest_submit = xgb.DMatrix(test)\n",
    "params = {\n",
    "    'learning_rate': 0.1, \n",
    "    'colsample_bytree': 0.3,\n",
    "    'max_depth': 20,  \n",
    "    'objective': 'multi:softprob',  \n",
    "    'num_class': 2, \n",
    "    'eval_metric': 'mlogloss',\n",
    "    'alpha': 10,\n",
    "    'verbosity':1} \n",
    "evals = [(dtest,'eval'), (dtrain,'train')]\n",
    "steps = 20\n",
    "num_round = 10"
   ]
  },
  {
   "cell_type": "code",
   "execution_count": null,
   "metadata": {},
   "outputs": [],
   "source": [
    "model = xgb.cv(dtrain=dtrain, params=params, nfold=5, metrics=\"mlogloss\", as_pandas=True, seed=123)\n",
    "model"
   ]
  },
  {
   "cell_type": "code",
   "execution_count": null,
   "metadata": {},
   "outputs": [],
   "source": [
    "train_counts = y_train.value_counts()\n",
    "test_counts = y_test.value_counts()\n",
    "print('Train Counts: 0=%d, 1=%d, Test Counts: 0=%d, 1=%d' % (train_counts[0], train_counts[1], test_counts[0], test_counts[1]))"
   ]
  },
  {
   "cell_type": "code",
   "execution_count": null,
   "metadata": {
    "scrolled": false
   },
   "outputs": [],
   "source": [
    "evals = [(dtest,'eval'), (dtrain,'train')]\n",
    "booster = \"gbtree\"\n",
    "results = pd.DataFrame(columns=['accuracy','roc_auc','recall', 'precision'])\n",
    "for learning_rate in [0.001, 0.005, 0.01, 0.05, 0.1, 0.5, 1, 5]:\n",
    "    for n_estimators in [10, 20, 50, 100]:\n",
    "        for colsample_bytree in [0, 0.2, 0.4, 0.6, 0.8]:\n",
    "            for alpha in [0, 0.01, 0.05]:\n",
    "                for gamma in [0, 0.01, 0.05]:\n",
    "                    for max_depth in [3, 5, 10, 20]:\n",
    "                        print(\"TRAINING ON PARAMS:\", str(params))\n",
    "                        params = {'learning_rate': learning_rate, 'colsample_bytree': colsample_bytree, 'max_depth': max_depth, \n",
    "                          'objective': 'multi:softprob',  'num_class': 2, 'eval_metric': \"mlogloss\", 'n_estimators': n_estimators,\n",
    "                          'alpha': alpha, \"gamma\":gamma}\n",
    "                        model = xgb.XGBClassifier(learning_rate=learning_rate, colsample_bytree=colsample_bytree, max_depth=max_depth, \n",
    "                                  objective='multi:softprob',num_class=2, eval_metric=\"mlogloss\", n_estimators=n_estimators,\n",
    "                                  alpha=alpha, gamma=gamma, verbosity=1)\n",
    "                        scores = []\n",
    "                        for scoring in ['accuracy','roc_auc','recall', 'precision']:\n",
    "                            kfold = StratifiedKFold(n_splits=10, random_state=7)\n",
    "                            run_results = cross_val_score(model, X_train, y_train, scoring=scoring, cv=kfold)\n",
    "                            print(scoring, \": %.2f%% (%.2f%%)\" % (run_results.mean()*100, run_results.std()*100))\n",
    "                            scores.append(results.mean()*100)\n",
    "                        results.loc[str(params)] = scores\n",
    "results.to_csv(f'training_results/run1.csv',index=False,header=True)"
   ]
  },
  {
   "cell_type": "markdown",
   "metadata": {},
   "source": [
    "#### Retrain on best model from iterating"
   ]
  },
  {
   "cell_type": "code",
   "execution_count": 15,
   "metadata": {},
   "outputs": [
    {
     "name": "stdout",
     "output_type": "stream",
     "text": [
      "[0.0450567  0.03280405 0.03165733 0.04650455 0.03453573 0.02788729\n",
      " 0.04186217 0.05055817 0.02818474 0.03047715 0.02891104 0.03063349\n",
      " 0.04353714 0.17905979 0.05615913 0.05206645 0.04685628 0.0289374\n",
      " 0.04556406 0.02554548 0.03011858 0.0301835  0.03289979]\n"
     ]
    },
    {
     "data": {
      "text/html": [
       "<div>\n",
       "<style scoped>\n",
       "    .dataframe tbody tr th:only-of-type {\n",
       "        vertical-align: middle;\n",
       "    }\n",
       "\n",
       "    .dataframe tbody tr th {\n",
       "        vertical-align: top;\n",
       "    }\n",
       "\n",
       "    .dataframe thead th {\n",
       "        text-align: right;\n",
       "    }\n",
       "</style>\n",
       "<table border=\"1\" class=\"dataframe\">\n",
       "  <thead>\n",
       "    <tr style=\"text-align: right;\">\n",
       "      <th></th>\n",
       "      <th>Y</th>\n",
       "    </tr>\n",
       "  </thead>\n",
       "  <tbody>\n",
       "    <tr>\n",
       "      <th>0</th>\n",
       "      <td>0.941511</td>\n",
       "    </tr>\n",
       "    <tr>\n",
       "      <th>1</th>\n",
       "      <td>0.844068</td>\n",
       "    </tr>\n",
       "    <tr>\n",
       "      <th>2</th>\n",
       "      <td>0.991029</td>\n",
       "    </tr>\n",
       "    <tr>\n",
       "      <th>3</th>\n",
       "      <td>0.987058</td>\n",
       "    </tr>\n",
       "    <tr>\n",
       "      <th>4</th>\n",
       "      <td>0.985483</td>\n",
       "    </tr>\n",
       "  </tbody>\n",
       "</table>\n",
       "</div>"
      ],
      "text/plain": [
       "          Y\n",
       "0  0.941511\n",
       "1  0.844068\n",
       "2  0.991029\n",
       "3  0.987058\n",
       "4  0.985483"
      ]
     },
     "execution_count": 15,
     "metadata": {},
     "output_type": "execute_result"
    }
   ],
   "source": [
    "best_params = {'learning_rate': 0.01, 'colsample_bytree': 0.4, 'max_depth': 15,'num_class': 2, 'eval_metric': 'mlogloss', 'n_estimators': 500, 'alpha': 0.1, 'gamma': 0.01}\n",
    "model = xgb.XGBClassifier(learning_rate=best_params['learning_rate'], colsample_bytree=best_params['colsample_bytree'], max_depth=best_params['max_depth'], \n",
    "                                  objective='multi:softprob',num_class=2, eval_metric=\"mlogloss\", n_estimators=best_params['n_estimators'],\n",
    "                                  alpha=best_params['alpha'], gamma=best_params['gamma'], verbosity=1)\n",
    "print(model.fit(train,y, callbacks=[wandb_callback()]).feature_importances_)\n",
    "preds = pd.DataFrame(model.predict_proba(test)).iloc[:, 1:]\n",
    "preds.columns = [\"Y\"]\n",
    "preds.head()"
   ]
  },
  {
   "cell_type": "markdown",
   "metadata": {},
   "source": [
    "#### See cross val scores of this model"
   ]
  },
  {
   "cell_type": "code",
   "execution_count": 16,
   "metadata": {},
   "outputs": [
    {
     "name": "stdout",
     "output_type": "stream",
     "text": [
      "accuracy : 95.76% (0.30%)\n",
      "roc_auc : 89.15% (2.04%)\n",
      "recall : 99.98% (0.05%)\n",
      "precision : 95.70% (0.29%)\n",
      "Saved model: 2020_10_25xgboost_2\n"
     ]
    }
   ],
   "source": [
    "for scoring in ['accuracy','roc_auc','recall', 'precision']:\n",
    "    kfold = StratifiedKFold(n_splits=10, random_state=7)\n",
    "    run_results = cross_val_score(model, X_train, y_train, scoring=scoring, cv=kfold)\n",
    "    print(scoring, \": %.2f%% (%.2f%%)\" % (run_results.mean()*100, run_results.std()*100))\n",
    "export_test(preds, model, best_params)"
   ]
  },
  {
   "cell_type": "markdown",
   "metadata": {},
   "source": [
    "#### Trying different cross val technique"
   ]
  },
  {
   "cell_type": "code",
   "execution_count": 17,
   "metadata": {},
   "outputs": [
    {
     "name": "stdout",
     "output_type": "stream",
     "text": [
      "accuracy : 95.67% (0.29%)\n",
      "roc_auc : 89.37% (1.67%)\n",
      "recall : 99.96% (0.05%)\n",
      "precision : 95.64% (0.27%)\n",
      "Saved model: 2020_10_25xgboost_3\n"
     ]
    }
   ],
   "source": [
    "for scoring in ['accuracy','roc_auc','recall', 'precision']:\n",
    "    kfold = StratifiedShuffleSplit(n_splits=10, random_state=7)\n",
    "    run_results = cross_val_score(model, X_train, y_train, scoring=scoring, cv=kfold)\n",
    "    print(scoring, \": %.2f%% (%.2f%%)\" % (run_results.mean()*100, run_results.std()*100))\n",
    "export_test(preds, model, best_params)"
   ]
  },
  {
   "cell_type": "code",
   "execution_count": 18,
   "metadata": {},
   "outputs": [
    {
     "ename": "ValueError",
     "evalue": "'Accuracy' is not a valid scoring value. Use sorted(sklearn.metrics.SCORERS.keys()) to get valid options.",
     "output_type": "error",
     "traceback": [
      "\u001b[0;31m---------------------------------------------------------------------------\u001b[0m",
      "\u001b[0;31mKeyError\u001b[0m                                  Traceback (most recent call last)",
      "\u001b[0;32m~/.pyenv/versions/3.6.9/envs/dslab-kaggle/lib/python3.6/site-packages/sklearn/metrics/_scorer.py\u001b[0m in \u001b[0;36mget_scorer\u001b[0;34m(scoring)\u001b[0m\n\u001b[1;32m    359\u001b[0m             \u001b[0;32melse\u001b[0m\u001b[0;34m:\u001b[0m\u001b[0;34m\u001b[0m\u001b[0;34m\u001b[0m\u001b[0m\n\u001b[0;32m--> 360\u001b[0;31m                 \u001b[0mscorer\u001b[0m \u001b[0;34m=\u001b[0m \u001b[0mSCORERS\u001b[0m\u001b[0;34m[\u001b[0m\u001b[0mscoring\u001b[0m\u001b[0;34m]\u001b[0m\u001b[0;34m\u001b[0m\u001b[0;34m\u001b[0m\u001b[0m\n\u001b[0m\u001b[1;32m    361\u001b[0m         \u001b[0;32mexcept\u001b[0m \u001b[0mKeyError\u001b[0m\u001b[0;34m:\u001b[0m\u001b[0;34m\u001b[0m\u001b[0;34m\u001b[0m\u001b[0m\n",
      "\u001b[0;31mKeyError\u001b[0m: 'Accuracy'",
      "\nDuring handling of the above exception, another exception occurred:\n",
      "\u001b[0;31mValueError\u001b[0m                                Traceback (most recent call last)",
      "\u001b[0;32m<ipython-input-18-26f7d30202ea>\u001b[0m in \u001b[0;36m<module>\u001b[0;34m\u001b[0m\n\u001b[1;32m      1\u001b[0m \u001b[0mkfold\u001b[0m \u001b[0;34m=\u001b[0m \u001b[0mStratifiedKFold\u001b[0m\u001b[0;34m(\u001b[0m\u001b[0mn_splits\u001b[0m\u001b[0;34m=\u001b[0m\u001b[0;36m10\u001b[0m\u001b[0;34m,\u001b[0m \u001b[0mrandom_state\u001b[0m\u001b[0;34m=\u001b[0m\u001b[0;36m7\u001b[0m\u001b[0;34m)\u001b[0m\u001b[0;34m\u001b[0m\u001b[0;34m\u001b[0m\u001b[0m\n\u001b[0;32m----> 2\u001b[0;31m wandb.log({\"Train Accuracy\": cross_val_score(model, X_train, y_train, scoring='Accuracy', cv=kfold), \n\u001b[0m\u001b[1;32m      3\u001b[0m            \"Test Accuracy\": cross_val_score(model, X_test, y_test, scoring='Accuracy', cv=kfold)})\n",
      "\u001b[0;32m~/.pyenv/versions/3.6.9/envs/dslab-kaggle/lib/python3.6/site-packages/sklearn/utils/validation.py\u001b[0m in \u001b[0;36minner_f\u001b[0;34m(*args, **kwargs)\u001b[0m\n\u001b[1;32m     70\u001b[0m                           FutureWarning)\n\u001b[1;32m     71\u001b[0m         \u001b[0mkwargs\u001b[0m\u001b[0;34m.\u001b[0m\u001b[0mupdate\u001b[0m\u001b[0;34m(\u001b[0m\u001b[0;34m{\u001b[0m\u001b[0mk\u001b[0m\u001b[0;34m:\u001b[0m \u001b[0marg\u001b[0m \u001b[0;32mfor\u001b[0m \u001b[0mk\u001b[0m\u001b[0;34m,\u001b[0m \u001b[0marg\u001b[0m \u001b[0;32min\u001b[0m \u001b[0mzip\u001b[0m\u001b[0;34m(\u001b[0m\u001b[0msig\u001b[0m\u001b[0;34m.\u001b[0m\u001b[0mparameters\u001b[0m\u001b[0;34m,\u001b[0m \u001b[0margs\u001b[0m\u001b[0;34m)\u001b[0m\u001b[0;34m}\u001b[0m\u001b[0;34m)\u001b[0m\u001b[0;34m\u001b[0m\u001b[0;34m\u001b[0m\u001b[0m\n\u001b[0;32m---> 72\u001b[0;31m         \u001b[0;32mreturn\u001b[0m \u001b[0mf\u001b[0m\u001b[0;34m(\u001b[0m\u001b[0;34m**\u001b[0m\u001b[0mkwargs\u001b[0m\u001b[0;34m)\u001b[0m\u001b[0;34m\u001b[0m\u001b[0;34m\u001b[0m\u001b[0m\n\u001b[0m\u001b[1;32m     73\u001b[0m     \u001b[0;32mreturn\u001b[0m \u001b[0minner_f\u001b[0m\u001b[0;34m\u001b[0m\u001b[0;34m\u001b[0m\u001b[0m\n\u001b[1;32m     74\u001b[0m \u001b[0;34m\u001b[0m\u001b[0m\n",
      "\u001b[0;32m~/.pyenv/versions/3.6.9/envs/dslab-kaggle/lib/python3.6/site-packages/sklearn/model_selection/_validation.py\u001b[0m in \u001b[0;36mcross_val_score\u001b[0;34m(estimator, X, y, groups, scoring, cv, n_jobs, verbose, fit_params, pre_dispatch, error_score)\u001b[0m\n\u001b[1;32m    397\u001b[0m     \"\"\"\n\u001b[1;32m    398\u001b[0m     \u001b[0;31m# To ensure multimetric format is not supported\u001b[0m\u001b[0;34m\u001b[0m\u001b[0;34m\u001b[0m\u001b[0;34m\u001b[0m\u001b[0m\n\u001b[0;32m--> 399\u001b[0;31m     \u001b[0mscorer\u001b[0m \u001b[0;34m=\u001b[0m \u001b[0mcheck_scoring\u001b[0m\u001b[0;34m(\u001b[0m\u001b[0mestimator\u001b[0m\u001b[0;34m,\u001b[0m \u001b[0mscoring\u001b[0m\u001b[0;34m=\u001b[0m\u001b[0mscoring\u001b[0m\u001b[0;34m)\u001b[0m\u001b[0;34m\u001b[0m\u001b[0;34m\u001b[0m\u001b[0m\n\u001b[0m\u001b[1;32m    400\u001b[0m \u001b[0;34m\u001b[0m\u001b[0m\n\u001b[1;32m    401\u001b[0m     cv_results = cross_validate(estimator=estimator, X=X, y=y, groups=groups,\n",
      "\u001b[0;32m~/.pyenv/versions/3.6.9/envs/dslab-kaggle/lib/python3.6/site-packages/sklearn/utils/validation.py\u001b[0m in \u001b[0;36minner_f\u001b[0;34m(*args, **kwargs)\u001b[0m\n\u001b[1;32m     70\u001b[0m                           FutureWarning)\n\u001b[1;32m     71\u001b[0m         \u001b[0mkwargs\u001b[0m\u001b[0;34m.\u001b[0m\u001b[0mupdate\u001b[0m\u001b[0;34m(\u001b[0m\u001b[0;34m{\u001b[0m\u001b[0mk\u001b[0m\u001b[0;34m:\u001b[0m \u001b[0marg\u001b[0m \u001b[0;32mfor\u001b[0m \u001b[0mk\u001b[0m\u001b[0;34m,\u001b[0m \u001b[0marg\u001b[0m \u001b[0;32min\u001b[0m \u001b[0mzip\u001b[0m\u001b[0;34m(\u001b[0m\u001b[0msig\u001b[0m\u001b[0;34m.\u001b[0m\u001b[0mparameters\u001b[0m\u001b[0;34m,\u001b[0m \u001b[0margs\u001b[0m\u001b[0;34m)\u001b[0m\u001b[0;34m}\u001b[0m\u001b[0;34m)\u001b[0m\u001b[0;34m\u001b[0m\u001b[0;34m\u001b[0m\u001b[0m\n\u001b[0;32m---> 72\u001b[0;31m         \u001b[0;32mreturn\u001b[0m \u001b[0mf\u001b[0m\u001b[0;34m(\u001b[0m\u001b[0;34m**\u001b[0m\u001b[0mkwargs\u001b[0m\u001b[0;34m)\u001b[0m\u001b[0;34m\u001b[0m\u001b[0;34m\u001b[0m\u001b[0m\n\u001b[0m\u001b[1;32m     73\u001b[0m     \u001b[0;32mreturn\u001b[0m \u001b[0minner_f\u001b[0m\u001b[0;34m\u001b[0m\u001b[0;34m\u001b[0m\u001b[0m\n\u001b[1;32m     74\u001b[0m \u001b[0;34m\u001b[0m\u001b[0m\n",
      "\u001b[0;32m~/.pyenv/versions/3.6.9/envs/dslab-kaggle/lib/python3.6/site-packages/sklearn/metrics/_scorer.py\u001b[0m in \u001b[0;36mcheck_scoring\u001b[0;34m(estimator, scoring, allow_none)\u001b[0m\n\u001b[1;32m    403\u001b[0m                         \"'fit' method, %r was passed\" % estimator)\n\u001b[1;32m    404\u001b[0m     \u001b[0;32mif\u001b[0m \u001b[0misinstance\u001b[0m\u001b[0;34m(\u001b[0m\u001b[0mscoring\u001b[0m\u001b[0;34m,\u001b[0m \u001b[0mstr\u001b[0m\u001b[0;34m)\u001b[0m\u001b[0;34m:\u001b[0m\u001b[0;34m\u001b[0m\u001b[0;34m\u001b[0m\u001b[0m\n\u001b[0;32m--> 405\u001b[0;31m         \u001b[0;32mreturn\u001b[0m \u001b[0mget_scorer\u001b[0m\u001b[0;34m(\u001b[0m\u001b[0mscoring\u001b[0m\u001b[0;34m)\u001b[0m\u001b[0;34m\u001b[0m\u001b[0;34m\u001b[0m\u001b[0m\n\u001b[0m\u001b[1;32m    406\u001b[0m     \u001b[0;32melif\u001b[0m \u001b[0mcallable\u001b[0m\u001b[0;34m(\u001b[0m\u001b[0mscoring\u001b[0m\u001b[0;34m)\u001b[0m\u001b[0;34m:\u001b[0m\u001b[0;34m\u001b[0m\u001b[0;34m\u001b[0m\u001b[0m\n\u001b[1;32m    407\u001b[0m         \u001b[0;31m# Heuristic to ensure user has not passed a metric\u001b[0m\u001b[0;34m\u001b[0m\u001b[0;34m\u001b[0m\u001b[0;34m\u001b[0m\u001b[0m\n",
      "\u001b[0;32m~/.pyenv/versions/3.6.9/envs/dslab-kaggle/lib/python3.6/site-packages/sklearn/metrics/_scorer.py\u001b[0m in \u001b[0;36mget_scorer\u001b[0;34m(scoring)\u001b[0m\n\u001b[1;32m    362\u001b[0m             raise ValueError('%r is not a valid scoring value. '\n\u001b[1;32m    363\u001b[0m                              \u001b[0;34m'Use sorted(sklearn.metrics.SCORERS.keys()) '\u001b[0m\u001b[0;34m\u001b[0m\u001b[0;34m\u001b[0m\u001b[0m\n\u001b[0;32m--> 364\u001b[0;31m                              'to get valid options.' % scoring)\n\u001b[0m\u001b[1;32m    365\u001b[0m     \u001b[0;32melse\u001b[0m\u001b[0;34m:\u001b[0m\u001b[0;34m\u001b[0m\u001b[0;34m\u001b[0m\u001b[0m\n\u001b[1;32m    366\u001b[0m         \u001b[0mscorer\u001b[0m \u001b[0;34m=\u001b[0m \u001b[0mscoring\u001b[0m\u001b[0;34m\u001b[0m\u001b[0;34m\u001b[0m\u001b[0m\n",
      "\u001b[0;31mValueError\u001b[0m: 'Accuracy' is not a valid scoring value. Use sorted(sklearn.metrics.SCORERS.keys()) to get valid options."
     ]
    }
   ],
   "source": [
    "kfold = StratifiedKFold(n_splits=10, random_state=7)\n",
    "wandb.log({\"Train Accuracy\": cross_val_score(model, X_train, y_train, scoring='Accuracy', cv=kfold), \n",
    "           \"Test Accuracy\": cross_val_score(model, X_test, y_test, scoring='Accuracy', cv=kfold)})"
   ]
  },
  {
   "cell_type": "markdown",
   "metadata": {},
   "source": [
    "#### Trying Random Forest and Ensemble/Stacking models\n",
    "Inspired by [this kaggle user](https://www.kaggle.com/arthurtok/introduction-to-ensembling-stacking-in-python)"
   ]
  },
  {
   "cell_type": "code",
   "execution_count": null,
   "metadata": {},
   "outputs": [],
   "source": [
    "class SKL_OBJ(object):\n",
    "    def __init__(self, model, params=None):\n",
    "        params['random_state'] = 42\n",
    "        self.model = model(**params)\n",
    "\n",
    "    def train(self, x_train, y_train):\n",
    "        self.model.fit(x_train, y_train)\n",
    "\n",
    "    def predict(self, x):\n",
    "        return self.model.predict(x)\n",
    "    \n",
    "    def predict_proba(self, x):\n",
    "        return self.model.predict_proba(x)\n",
    "    \n",
    "    def fit(self,x,y):\n",
    "        return self.model.fit(x,y)\n",
    "    \n",
    "    def feature_importances(self,x,y):\n",
    "        print(self.model.fit(x,y).feature_importances_)"
   ]
  },
  {
   "cell_type": "code",
   "execution_count": null,
   "metadata": {},
   "outputs": [],
   "source": [
    "X_train, X_test, y_train, y_test = train_test_split(train,y,test_size=.2, random_state=42)\n",
    "n_train = X_train.shape[0]\n",
    "n_test = X_test.shape[0]\n",
    "n_folds = 5"
   ]
  },
  {
   "cell_type": "markdown",
   "metadata": {},
   "source": [
    "#### Create models and params"
   ]
  },
  {
   "cell_type": "code",
   "execution_count": null,
   "metadata": {},
   "outputs": [],
   "source": [
    "rf_params = {\n",
    "    'n_jobs': -1,\n",
    "    'n_estimators': 500,\n",
    "     'warm_start': True, \n",
    "     #'max_features': 0.2,\n",
    "    'max_depth': 6,\n",
    "    'min_samples_leaf': 2,\n",
    "    'max_features' : 'sqrt',\n",
    "    'verbose': 0\n",
    "}\n",
    "\n",
    "# Extra Trees Parameters\n",
    "et_params = {\n",
    "    'n_jobs': -1,\n",
    "    'n_estimators':500,\n",
    "    'max_depth': 8,\n",
    "    'min_samples_leaf': 2,\n",
    "    'verbose': 0\n",
    "}\n",
    "\n",
    "# AdaBoost parameters\n",
    "ada_params = {\n",
    "    'n_estimators': 500,\n",
    "    'learning_rate' : 0.75\n",
    "}\n",
    "\n",
    "# Gradient Boosting parameters\n",
    "gb_params = {\n",
    "    'learning_rate': 0.01, \n",
    "    'colsample_bytree': 0.4, \n",
    "    'max_depth': 15,\n",
    "    'num_class': 2, \n",
    "    'eval_metric': 'mlogloss',\n",
    "    'objective':'multi:softprob',\n",
    "    'n_estimators': 500, \n",
    "    'alpha': 0, \n",
    "    'gamma': 0.01\n",
    "}\n",
    "\n",
    "# Support Vector Classifier parameters \n",
    "svc_params = {\n",
    "    'kernel' : 'linear',\n",
    "    'C' : 0.025\n",
    "    }\n",
    "\n",
    "rf = SKL_OBJ(model=RandomForestClassifier, params=rf_params)\n",
    "et = SKL_OBJ(model=ExtraTreesClassifier, params=et_params)\n",
    "ada = SKL_OBJ(model=AdaBoostClassifier, params=ada_params)\n",
    "gb = SKL_OBJ(model=xgb.XGBClassifier, params=gb_params)\n",
    "svc = SKL_OBJ(model=SVC, params=svc_params)"
   ]
  },
  {
   "cell_type": "code",
   "execution_count": null,
   "metadata": {},
   "outputs": [],
   "source": [
    "def out_of_fold(model, kfold, X_train, y_train, X_test):\n",
    "    folds_train = np.zeros((n_train,))\n",
    "    folds_test = np.zeros((n_test,))\n",
    "    test_skf = np.empty((n_folds, n_test))\n",
    "    \n",
    "    for i, (train_index, test_index) in enumerate(kfold.split(X_train, y_train)):\n",
    "        \n",
    "        X_tr = X_train.iloc[train_index]\n",
    "        y_tr = y_train.iloc[train_index]\n",
    "        X_te = X_train.iloc[test_index]\n",
    "\n",
    "        model.train(X_tr, y_tr)\n",
    "\n",
    "        folds_train[test_index] = model.predict_proba(X_te)\n",
    "        preds = pd.DataFrame(model.predict_proba(X_test)).iloc[:, 1]\n",
    "        print(preds.head())\n",
    "        test_skf[i, :] = preds\n",
    "#         test_skf[i, :] = model.predict(X_test)\n",
    "        \n",
    "\n",
    "    folds_test[:] = test_skf.mean(axis=0)\n",
    "    return folds_train.reshape(-1, 1), folds_test.reshape(-1, 1)\n",
    "\n",
    "kfold = StratifiedKFold(n_splits=n_folds, random_state=7)\n",
    "et_train, et_test = out_of_fold(et, kfold, X_train, y_train, X_test) # Extra Trees\n",
    "rf_train, rf_test = out_of_fold(rf, kfold, X_train, y_train, X_test) # Random Forest\n",
    "ada_train, ada_test = out_of_fold(ada, kfold, X_train, y_train, X_test) # AdaBoost \n",
    "gb_train, gb_test = out_of_fold(gb, kfold, X_train, y_train, X_test) # Gradient Boost\n",
    "# svc_train, svc_test = out_of_fold(svc, kfold, X_train, y_train, X_test) # Support Vector Classifier"
   ]
  },
  {
   "cell_type": "code",
   "execution_count": null,
   "metadata": {},
   "outputs": [],
   "source": [
    "x_train = np.concatenate(( et_train, rf_train, ada_train, gb_train), axis=1)\n",
    "x_test = np.concatenate(( et_test, rf_test, ada_test, gb_test), axis=1)\n",
    "\n",
    "stacked = xgb.XGBClassifier(learning_rate = 0.01, n_estimators= 500, max_depth= 4, min_child_weight= 2,\n",
    "                            gamma=0.9, subsample=0.8, colsample_bytree=0.8, objective= 'multi:softprob', nthread= -1, scale_pos_weight=1)\n",
    "stacked.fit(x_train, y_train)\n",
    "\n",
    "preds = stacked.predict_proba(test)\n",
    "export_test(preds, model, best_params)\n",
    "for scoring in ['accuracy','roc_auc','recall', 'precision']:\n",
    "        kfold = StratifiedShuffleSplit(n_splits=5, test_size=0.2, random_state=0)\n",
    "        run_results = cross_val_score(model.model, X_train, y_train, scoring=scoring, cv=kfold)\n",
    "        print(scoring, \": %.2f%% (%.2f%%)\" % (run_results.mean()*100, run_results.std()*100))"
   ]
  },
  {
   "cell_type": "code",
   "execution_count": null,
   "metadata": {},
   "outputs": [],
   "source": [
    "x_train = np.concatenate(( et_train, rf_train, ada_train, gb_train, svc_train), axis=1)\n",
    "x_test = np.concatenate(( et_test, rf_test, ada_test, gb_test, svc_test), axis=1)"
   ]
  },
  {
   "cell_type": "code",
   "execution_count": null,
   "metadata": {},
   "outputs": [],
   "source": [
    "rf_feature = list(rf.feature_importances(x_train,y_train))\n",
    "et_feature = list(et.feature_importances(x_train, y_train))\n",
    "ada_feature = list(ada.feature_importances(x_train, y_train))\n",
    "gb_feature = list(gb.feature_importances(x_train,y_train))\n",
    "svc_feature = list(svc.feature_importances(x_train, y_train))\n",
    "print(gb_feature)"
   ]
  },
  {
   "cell_type": "code",
   "execution_count": null,
   "metadata": {},
   "outputs": [],
   "source": [
    "cols = train.columns.values\n",
    "# Create a dataframe with features\n",
    "feature_dataframe = pd.DataFrame( {'features': cols,\n",
    "     'Random Forest feature importances': rf_features,\n",
    "     'Extra Trees  feature importances': et_features,\n",
    "      'AdaBoost feature importances': ada_features,\n",
    "    'Gradient Boost feature importances': gb_features\n",
    "    })"
   ]
  },
  {
   "cell_type": "code",
   "execution_count": null,
   "metadata": {},
   "outputs": [],
   "source": [
    "def out_of_fold(model):\n",
    "    \n",
    "    X_train, X_test, y_train, y_test = train_test_split(train,y,test_size=.2, random_state=42)\n",
    "    X_Train.sample(frac=1)\n",
    "    \n",
    "    \n",
    "    folds_train = np.zeros((n_train,))\n",
    "    folds_test = np.zeros((n_test,))\n",
    "    test_skf = np.empty((n_folds, n_test))\n",
    "    \n",
    "    for train_index, test_index in kfold.split(X_train, y_train):\n",
    "        X_tr = X_train[train_index]\n",
    "        y_tr = y_train[train_index]\n",
    "        X_te = X_train[test_index]\n",
    "\n",
    "        model.train(X_tr, y_tr)\n",
    "\n",
    "        folds_train[test_index] = model.predict(X_te)\n",
    "        test_skf[0, :] = model.predict(X_test)\n",
    "        \n",
    "\n",
    "    folds_test[:] = test_skf.mean(axis=0)\n",
    "    return folds_train.reshape(-1, 1), folds_test.reshape(-1, 1)"
   ]
  },
  {
   "cell_type": "code",
   "execution_count": null,
   "metadata": {
    "scrolled": true
   },
   "outputs": [],
   "source": [
    "def get_results(model, X_train, y_train, X_test):\n",
    "    model.fit(X_train,y_train)\n",
    "    soft_preds = pd.DataFrame(model.predict_proba(X_test)).iloc[:, 1:]\n",
    "    for scoring in ['accuracy','roc_auc','recall', 'precision']:\n",
    "        kfold = StratifiedShuffleSplit(n_splits=5, test_size=0.2, random_state=0)\n",
    "        run_results = cross_val_score(model.model, X_train, y_train, scoring=scoring, cv=kfold)\n",
    "        print(scoring, \": %.2f%% (%.2f%%)\" % (run_results.mean()*100, run_results.std()*100))\n",
    "    return soft_preds\n",
    "\n",
    "et_results = get_results(et, X_train, y_train, X_test) # Extra Trees\n",
    "rf_results = get_results(rf, X_train, y_train, X_test) # Random Forest\n",
    "ada_results = get_results(ada, X_train, y_train, X_test) # AdaBoost \n",
    "gb_results = get_results(gb, X_train, y_train, X_test) # Gradient Boost\n",
    "\n",
    "results = np.concatenate(( et_results, rf_results, ada_results, gb_results), axis=1)\n",
    "preds = pd.DataFrame()\n",
    "preds['Y'] = results.mean(axis=1)\n",
    "export_test(preds, model, best_params)"
   ]
  },
  {
   "cell_type": "code",
   "execution_count": null,
   "metadata": {
    "scrolled": false
   },
   "outputs": [],
   "source": [
    "def get_cvresults(model, X_train, y_train, X_test):\n",
    "    sss = StratifiedShuffleSplit(n_splits=5, test_size=0.2, random_state=0)\n",
    "    sss.get_n_splits(X_train, y_train)\n",
    "    for train_index, test_index in sss.split(X_train, y_train):\n",
    "        print(\"TRAIN:\", train_index, \"TEST:\", test_index)\n",
    "        x_tr, x_te = X_train.loc[train_index], X_train.loc[test_index]\n",
    "        y_tr, y_te = y_train.loc[train_index], y_train.loc[test_index]\n",
    "#         print(x_tr)\n",
    "#     model.fit(X_train,y_train)\n",
    "#     soft_preds = pd.DataFrame(model.predict_proba(X_test)).iloc[:, 1:]\n",
    "#     soft_preds.columns = [\"Y\"]\n",
    "#     return soft_preds\n",
    "et_train, et_test = get_results(et, X_train, y_train, X_test) # Extra Trees\n",
    "rf_train, rf_test = get_results(rf, X_train, y_train, X_test) # Random Forest\n",
    "ada_train, ada_test = get_results(ada, X_train, y_train, X_test) # AdaBoost \n",
    "gb_train, gb_test = get_results(gb, X_train, y_train, X_test) # Gradient Boost\n",
    "svc_train, svc_test = get_results(svc, X_train, y_train, X_test) # Support Vector Classifier"
   ]
  },
  {
   "cell_type": "markdown",
   "metadata": {},
   "source": [
    "#### Feature Engineering"
   ]
  },
  {
   "cell_type": "code",
   "execution_count": null,
   "metadata": {},
   "outputs": [],
   "source": [
    "likely_categorical = {}\n",
    "for feat in train.columns:\n",
    "    likely_categorical[feat] = 1.*train[feat].nunique()/train[feat].count() < 0.01\n",
    "likely_categorical"
   ]
  },
  {
   "cell_type": "code",
   "execution_count": null,
   "metadata": {},
   "outputs": [],
   "source": [
    "xcount = 4\n",
    "ycount = 3\n",
    "f, axes = plt.subplots(ycount, xcount, figsize=(15, 12))\n",
    "subplot_x = 0\n",
    "subplot_y = 0\n",
    "for feat, categorical in likely_categorical.items():\n",
    "    if categorical:\n",
    "        ax = sns.countplot(train[feat], color=\"skyblue\", ax=axes[subplot_y, subplot_x])\n",
    "        if subplot_x is not 0 and subplot_x + 1 == xcount:\n",
    "            subplot_y += 1\n",
    "            subplot_x = 0\n",
    "        elif subplot_y + 1 is not ycount:\n",
    "            subplot_x += 1 "
   ]
  },
  {
   "cell_type": "code",
   "execution_count": null,
   "metadata": {},
   "outputs": [],
   "source": [
    "for feat, categorical in likely_categorical.items():\n",
    "    if categorical:\n",
    "        # change train\n",
    "        one_hot = pd.get_dummies(train[feat], prefix=feat + '_')\n",
    "        train = pd.concat([train, one_hot], axis=1)\n",
    "        train.drop(columns=feat)\n",
    "        \n",
    "        # change test\n",
    "        one_hot = pd.get_dummies(test[feat], prefix=feat + '_')\n",
    "        test = pd.concat([test, one_hot], axis=1)\n",
    "        test.drop(columns=feat)"
   ]
  },
  {
   "cell_type": "code",
   "execution_count": null,
   "metadata": {},
   "outputs": [],
   "source": [
    "xg_test = xgb.XGBClassifier(params)\n",
    "xg_test.fit(data,y)\n",
    "preds = xg_test.predict_proba(test)\n",
    "print(preds)"
   ]
  },
  {
   "cell_type": "markdown",
   "metadata": {},
   "source": [
    "#### Pt 2 - Neural Network"
   ]
  },
  {
   "cell_type": "code",
   "execution_count": null,
   "metadata": {},
   "outputs": [],
   "source": [
    "from keras.models import Sequential\n",
    "from keras.layers import Dense\n",
    "from keras.wrappers.scikit_learn import KerasClassifier\n",
    "from sklearn.preprocessing import LabelEncoder\n",
    "# load dataset\n",
    "dataframe = read_csv(\"sonar.csv\", header=None)\n",
    "dataset = dataframe.values\n",
    "# split into input (X) and output (Y) variables\n",
    "X = dataset[:,0:60].astype(float)\n",
    "Y = dataset[:,60]\n",
    "# encode class values as integers\n",
    "encoder = LabelEncoder()\n",
    "encoder.fit(Y)\n",
    "encoded_Y = encoder.transform(Y)\n",
    "# baseline model\n",
    "def create_baseline():\n",
    "\t# create model\n",
    "\tmodel = Sequential()\n",
    "\tmodel.add(Dense(60, input_dim=60, activation='relu'))\n",
    "\tmodel.add(Dense(1, activation='sigmoid'))\n",
    "\t# Compile model\n",
    "\tmodel.compile(loss='binary_crossentropy', optimizer='adam', metrics=['accuracy'])\n",
    "\treturn model\n",
    "# evaluate model with standardized dataset\n",
    "estimator = KerasClassifier(build_fn=create_baseline, epochs=100, batch_size=5, verbose=0)\n",
    "kfold = StratifiedKFold(n_splits=10, shuffle=True)\n",
    "results = cross_val_score(estimator, X, encoded_Y, cv=kfold)\n",
    "print(\"Baseline: %.2f%% (%.2f%%)\" % (results.mean()*100, results.std()*100))"
   ]
  },
  {
   "cell_type": "markdown",
   "metadata": {},
   "source": [
    "#### Other Experimental Code"
   ]
  },
  {
   "cell_type": "code",
   "execution_count": null,
   "metadata": {},
   "outputs": [],
   "source": [
    "X = train.T\n",
    "evals = [(dtest,'eval'), (dtrain,'train')]\n",
    "for learning_rate in [0.001, 0.005, 0.01, 0.05, 0.1, 0.5, 1, 5]:\n",
    "    for colsample_bytree in [0, 0.2, 0.4, 0.6, 0.8]:\n",
    "        for alpha in [0, 0.01, 0.05]:\n",
    "            for max_depth in [3, 5, 10, 20]:\n",
    "                params = {'learning_rate': 0.1, 'colsample_bytree': colsample_bytree, 'max_depth': max_depth, \n",
    "                          'objective': 'multi:softprob',  'num_class': 2, 'eval_metric': \"mlogloss\",\n",
    "                          'alpha': alpha}\n",
    "                print(\"TRAINING ON PARAMS:\", str(params))\n",
    "                kfold = StratifiedKFold(n_splits=5, shuffle=True, random_state=1)\n",
    "                for train_splits, test_splits in kfold.split(X, y):\n",
    "                    X_train, X_test = X[train_splits], X[test_splits]\n",
    "                    y_train, y_test = y[train_splits], y[test_splits]\n",
    "                    dtrain = xgb.DMatrix(X_train, label=y_train)\n",
    "                    dtest = xgb.DMatrix(X_test, label=y_test)\n",
    "                    \n",
    "                    model = xgb.train(params, dtrain, steps, evals_result=evals)\n",
    "                    \n",
    "                    soft_preds = pd.DataFrame(model.predict(dtest_submit))\n",
    "                    soft_preds_result = pd.DataFrame(model.predict(dtest_submit)).iloc[:, 1:]\n",
    "                    soft_preds_result.columns = [\"Y\"]\n",
    "                    soft_preds_result.head()\n",
    "                    export_test(soft_preds_result, model)\n",
    "                    hard_preds = pd.DataFrame([np.argmax(line) for line in soft_preds])\n",
    "                    hard_preds.columns = [\"Y\"]"
   ]
  }
 ],
 "metadata": {
  "kernelspec": {
   "display_name": "Python 3",
   "language": "python",
   "name": "python3"
  },
  "language_info": {
   "codemirror_mode": {
    "name": "ipython",
    "version": 3
   },
   "file_extension": ".py",
   "mimetype": "text/x-python",
   "name": "python",
   "nbconvert_exporter": "python",
   "pygments_lexer": "ipython3",
   "version": "3.6.9"
  }
 },
 "nbformat": 4,
 "nbformat_minor": 4
}
